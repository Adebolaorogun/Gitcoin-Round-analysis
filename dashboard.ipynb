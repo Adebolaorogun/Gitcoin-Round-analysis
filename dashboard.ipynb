{
 "cells": [
  {
   "cell_type": "code",
   "execution_count": 2,
   "id": "53cfa073",
   "metadata": {},
   "outputs": [
    {
     "name": "stdout",
     "output_type": "stream",
     "text": [
      "Collecting pivottablejs\n",
      "  Downloading pivottablejs-0.9.0-py2.py3-none-any.whl (4.7 kB)\n",
      "Installing collected packages: pivottablejs\n",
      "Successfully installed pivottablejs-0.9.0\n"
     ]
    }
   ],
   "source": [
    "!pip install pivottablejs"
   ]
  },
  {
   "cell_type": "code",
   "execution_count": 3,
   "id": "b40f699b",
   "metadata": {},
   "outputs": [],
   "source": [
    "from pivottablejs import pivot_ui"
   ]
  },
  {
   "cell_type": "code",
   "execution_count": 4,
   "id": "737777e9",
   "metadata": {},
   "outputs": [],
   "source": [
    "import pandas as pd"
   ]
  },
  {
   "cell_type": "code",
   "execution_count": 5,
   "id": "f5947ef1",
   "metadata": {},
   "outputs": [
    {
     "data": {
      "text/html": [
       "<div>\n",
       "<style scoped>\n",
       "    .dataframe tbody tr th:only-of-type {\n",
       "        vertical-align: middle;\n",
       "    }\n",
       "\n",
       "    .dataframe tbody tr th {\n",
       "        vertical-align: top;\n",
       "    }\n",
       "\n",
       "    .dataframe thead th {\n",
       "        text-align: right;\n",
       "    }\n",
       "</style>\n",
       "<table border=\"1\" class=\"dataframe\">\n",
       "  <thead>\n",
       "    <tr style=\"text-align: right;\">\n",
       "      <th></th>\n",
       "      <th>id_vote</th>\n",
       "      <th>token</th>\n",
       "      <th>amount</th>\n",
       "      <th>source_wallet</th>\n",
       "      <th>wallet_address</th>\n",
       "      <th>title</th>\n",
       "      <th>project_github</th>\n",
       "      <th>created_at_vote</th>\n",
       "    </tr>\n",
       "  </thead>\n",
       "  <tbody>\n",
       "    <tr>\n",
       "      <th>0</th>\n",
       "      <td>11f159yjRryCZgNBebpqaa8FUCpApzNtkW2SBpY9EQL</td>\n",
       "      <td>ETH</td>\n",
       "      <td>0.00100</td>\n",
       "      <td>0xe95ab07a55e8489fe8e81e3281c8b3fd95c7d8af</td>\n",
       "      <td>0xd27e1a1a60ebc1b70f4cae5265092c0f6edc7f9d</td>\n",
       "      <td>Kotani Pay</td>\n",
       "      <td>https://github.com/kotanipay</td>\n",
       "      <td>2022-12-17 14:37:47</td>\n",
       "    </tr>\n",
       "    <tr>\n",
       "      <th>1</th>\n",
       "      <td>12CNUqn43kCzFvfLd2UgUp39Y4DbG3HD5rqGFrwbknF3</td>\n",
       "      <td>ETH</td>\n",
       "      <td>0.00090</td>\n",
       "      <td>0x2d2128ebfdb589a404ae1c1f90a994f4ee9378e2</td>\n",
       "      <td>0xd27e1a1a60ebc1b70f4cae5265092c0f6edc7f9d</td>\n",
       "      <td>Kotani Pay</td>\n",
       "      <td>https://github.com/kotanipay</td>\n",
       "      <td>2022-12-18 08:58:35</td>\n",
       "    </tr>\n",
       "    <tr>\n",
       "      <th>2</th>\n",
       "      <td>12F22r6sCUzMG96aQxJGmxkmX63A6CJXaZj4Qnj8ubEK</td>\n",
       "      <td>ETH</td>\n",
       "      <td>0.00010</td>\n",
       "      <td>0x6fdd049121fdc6e11ed89971763316eb9723d3c1</td>\n",
       "      <td>0xd27e1a1a60ebc1b70f4cae5265092c0f6edc7f9d</td>\n",
       "      <td>Kotani Pay</td>\n",
       "      <td>https://github.com/kotanipay</td>\n",
       "      <td>2022-12-15 07:51:23</td>\n",
       "    </tr>\n",
       "    <tr>\n",
       "      <th>3</th>\n",
       "      <td>12GLCDRtcXvM4zhoReLeM7jamxmoF4dmkgaCbetzU8mW</td>\n",
       "      <td>ETH</td>\n",
       "      <td>0.00005</td>\n",
       "      <td>0x83dc985930b909efaab72927bbd32f8cdce3ac71</td>\n",
       "      <td>0xd27e1a1a60ebc1b70f4cae5265092c0f6edc7f9d</td>\n",
       "      <td>Kotani Pay</td>\n",
       "      <td>https://github.com/kotanipay</td>\n",
       "      <td>2022-12-17 12:21:47</td>\n",
       "    </tr>\n",
       "    <tr>\n",
       "      <th>4</th>\n",
       "      <td>12gtAu8URuLmKBXkzsT9eh1L1L1SosXzBfJjTkdKS8v3</td>\n",
       "      <td>ETH</td>\n",
       "      <td>0.00100</td>\n",
       "      <td>0xc7a014d9526115d7fea8ef7d2912acc8ea6e49d0</td>\n",
       "      <td>0xd27e1a1a60ebc1b70f4cae5265092c0f6edc7f9d</td>\n",
       "      <td>Kotani Pay</td>\n",
       "      <td>https://github.com/kotanipay</td>\n",
       "      <td>2022-12-20 21:20:47</td>\n",
       "    </tr>\n",
       "  </tbody>\n",
       "</table>\n",
       "</div>"
      ],
      "text/plain": [
       "                                        id_vote token   amount  \\\n",
       "0   11f159yjRryCZgNBebpqaa8FUCpApzNtkW2SBpY9EQL   ETH  0.00100   \n",
       "1  12CNUqn43kCzFvfLd2UgUp39Y4DbG3HD5rqGFrwbknF3   ETH  0.00090   \n",
       "2  12F22r6sCUzMG96aQxJGmxkmX63A6CJXaZj4Qnj8ubEK   ETH  0.00010   \n",
       "3  12GLCDRtcXvM4zhoReLeM7jamxmoF4dmkgaCbetzU8mW   ETH  0.00005   \n",
       "4  12gtAu8URuLmKBXkzsT9eh1L1L1SosXzBfJjTkdKS8v3   ETH  0.00100   \n",
       "\n",
       "                                source_wallet  \\\n",
       "0  0xe95ab07a55e8489fe8e81e3281c8b3fd95c7d8af   \n",
       "1  0x2d2128ebfdb589a404ae1c1f90a994f4ee9378e2   \n",
       "2  0x6fdd049121fdc6e11ed89971763316eb9723d3c1   \n",
       "3  0x83dc985930b909efaab72927bbd32f8cdce3ac71   \n",
       "4  0xc7a014d9526115d7fea8ef7d2912acc8ea6e49d0   \n",
       "\n",
       "                               wallet_address       title  \\\n",
       "0  0xd27e1a1a60ebc1b70f4cae5265092c0f6edc7f9d  Kotani Pay   \n",
       "1  0xd27e1a1a60ebc1b70f4cae5265092c0f6edc7f9d  Kotani Pay   \n",
       "2  0xd27e1a1a60ebc1b70f4cae5265092c0f6edc7f9d  Kotani Pay   \n",
       "3  0xd27e1a1a60ebc1b70f4cae5265092c0f6edc7f9d  Kotani Pay   \n",
       "4  0xd27e1a1a60ebc1b70f4cae5265092c0f6edc7f9d  Kotani Pay   \n",
       "\n",
       "                 project_github      created_at_vote  \n",
       "0  https://github.com/kotanipay  2022-12-17 14:37:47  \n",
       "1  https://github.com/kotanipay  2022-12-18 08:58:35  \n",
       "2  https://github.com/kotanipay  2022-12-15 07:51:23  \n",
       "3  https://github.com/kotanipay  2022-12-17 12:21:47  \n",
       "4  https://github.com/kotanipay  2022-12-20 21:20:47  "
      ]
     },
     "execution_count": 5,
     "metadata": {},
     "output_type": "execute_result"
    }
   ],
   "source": [
    "unicef_app = pd.read_csv(\"./unicef_grant_applications.csv\")\n",
    "unicef_vote = pd.read_csv(\"./unicef_grant_votes.csv\")\n",
    "\n",
    "\n",
    "unicef_vote.columns = ['id', 'token', 'amount', 'source_wallet', 'wallet_address','created_at']\n",
    "\n",
    "unicef_copy = unicef_vote.merge(unicef_app, on=\"wallet_address\", suffixes=(\"_vote\", \"_app\"))\n",
    "unicef = unicef_copy[['id_vote', 'token', 'amount', 'source_wallet', 'wallet_address','title','project_github','created_at_vote', ]]\n",
    "unicef.head()"
   ]
  },
  {
   "cell_type": "code",
   "execution_count": 6,
   "id": "101035fe",
   "metadata": {},
   "outputs": [
    {
     "data": {
      "text/html": [
       "\n",
       "        <iframe\n",
       "            width=\"100%\"\n",
       "            height=\"500\"\n",
       "            src=\"pivottablejs.html\"\n",
       "            frameborder=\"0\"\n",
       "            allowfullscreen\n",
       "        ></iframe>\n",
       "        "
      ],
      "text/plain": [
       "<IPython.lib.display.IFrame at 0x2ad891636c8>"
      ]
     },
     "execution_count": 6,
     "metadata": {},
     "output_type": "execute_result"
    }
   ],
   "source": [
    "pivot_ui(unicef)"
   ]
  },
  {
   "cell_type": "code",
   "execution_count": null,
   "id": "f0d2318f",
   "metadata": {},
   "outputs": [],
   "source": []
  }
 ],
 "metadata": {
  "kernelspec": {
   "display_name": "Python 3",
   "language": "python",
   "name": "python3"
  },
  "language_info": {
   "codemirror_mode": {
    "name": "ipython",
    "version": 3
   },
   "file_extension": ".py",
   "mimetype": "text/x-python",
   "name": "python",
   "nbconvert_exporter": "python",
   "pygments_lexer": "ipython3",
   "version": "3.7.6"
  }
 },
 "nbformat": 4,
 "nbformat_minor": 5
}
